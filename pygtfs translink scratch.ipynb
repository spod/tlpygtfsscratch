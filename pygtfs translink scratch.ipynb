{
 "cells": [
  {
   "cell_type": "code",
   "execution_count": 1,
   "metadata": {},
   "outputs": [],
   "source": [
    "import pygtfs\n"
   ]
  },
  {
   "cell_type": "code",
   "execution_count": 2,
   "metadata": {},
   "outputs": [
    {
     "name": "stdout",
     "output_type": "stream",
     "text": [
      "Loading GTFS data for <class 'pygtfs.gtfs_entities.Agency'>:\n",
      "Loading GTFS data for <class 'pygtfs.gtfs_entities.Stop'>:\n",
      "Loading GTFS data for <class 'pygtfs.gtfs_entities.Route'>:\n",
      "Loading GTFS data for <class 'pygtfs.gtfs_entities.Trip'>:\n",
      "Loading GTFS data for <class 'pygtfs.gtfs_entities.StopTime'>:\n",
      "Loading GTFS data for <class 'pygtfs.gtfs_entities.Service'>:\n",
      "Loading GTFS data for <class 'pygtfs.gtfs_entities.ServiceException'>:\n",
      "Loading GTFS data for <class 'pygtfs.gtfs_entities.Fare'>:\n",
      "Loading GTFS data for <class 'pygtfs.gtfs_entities.FareRule'>:\n",
      "Loading GTFS data for <class 'pygtfs.gtfs_entities.ShapePoint'>:\n",
      "Loading GTFS data for <class 'pygtfs.gtfs_entities.Frequency'>:\n",
      "Loading GTFS data for <class 'pygtfs.gtfs_entities.Transfer'>:\n",
      "Loading GTFS data for <class 'pygtfs.gtfs_entities.FeedInfo'>:\n",
      "Loading GTFS data for <class 'pygtfs.gtfs_entities.Translation'>:\n",
      "1 record read for <class 'pygtfs.gtfs_entities.Agency'>.\n"
     ]
    },
    {
     "name": "stderr",
     "output_type": "stream",
     "text": [
      "/Users/michaelcollins/anaconda3/lib/python3.6/site-packages/sqlalchemy/orm/relationships.py:2725: SAWarning: relationship 'Route.agency' will copy column agency.feed_id to column routes.feed_id, which conflicts with relationship(s): 'Route.feed' (copies _feed.feed_id to routes.feed_id). Consider applying viewonly=True to read-only relationships, or provide a primaryjoin condition marking writable columns with the foreign() annotation.\n",
      "  for (pr, fr_) in other_props)\n",
      "/Users/michaelcollins/anaconda3/lib/python3.6/site-packages/sqlalchemy/orm/relationships.py:2725: SAWarning: relationship 'StopTime.stop' will copy column stops.feed_id to column stop_times.feed_id, which conflicts with relationship(s): 'StopTime.feed' (copies _feed.feed_id to stop_times.feed_id). Consider applying viewonly=True to read-only relationships, or provide a primaryjoin condition marking writable columns with the foreign() annotation.\n",
      "  for (pr, fr_) in other_props)\n",
      "/Users/michaelcollins/anaconda3/lib/python3.6/site-packages/sqlalchemy/orm/relationships.py:2725: SAWarning: relationship 'Trip.route' will copy column routes.feed_id to column trips.feed_id, which conflicts with relationship(s): 'Trip.feed' (copies _feed.feed_id to trips.feed_id). Consider applying viewonly=True to read-only relationships, or provide a primaryjoin condition marking writable columns with the foreign() annotation.\n",
      "  for (pr, fr_) in other_props)\n",
      "/Users/michaelcollins/anaconda3/lib/python3.6/site-packages/sqlalchemy/orm/relationships.py:2725: SAWarning: relationship 'FareRule.route' will copy column routes.feed_id to column fare_rules.feed_id, which conflicts with relationship(s): 'FareRule.feed' (copies _feed.feed_id to fare_rules.feed_id). Consider applying viewonly=True to read-only relationships, or provide a primaryjoin condition marking writable columns with the foreign() annotation.\n",
      "  for (pr, fr_) in other_props)\n",
      "/Users/michaelcollins/anaconda3/lib/python3.6/site-packages/sqlalchemy/orm/relationships.py:2725: SAWarning: relationship 'StopTime.trip' will copy column trips.feed_id to column stop_times.feed_id, which conflicts with relationship(s): 'StopTime.feed' (copies _feed.feed_id to stop_times.feed_id). Consider applying viewonly=True to read-only relationships, or provide a primaryjoin condition marking writable columns with the foreign() annotation.\n",
      "  for (pr, fr_) in other_props)\n",
      "/Users/michaelcollins/anaconda3/lib/python3.6/site-packages/sqlalchemy/orm/relationships.py:2725: SAWarning: relationship 'Frequency.trip' will copy column trips.feed_id to column frequencies.feed_id, which conflicts with relationship(s): 'Frequency.feed' (copies _feed.feed_id to frequencies.feed_id). Consider applying viewonly=True to read-only relationships, or provide a primaryjoin condition marking writable columns with the foreign() annotation.\n",
      "  for (pr, fr_) in other_props)\n",
      "/Users/michaelcollins/anaconda3/lib/python3.6/site-packages/sqlalchemy/orm/relationships.py:2725: SAWarning: relationship 'Trip.service' will copy column calendar.feed_id to column trips.feed_id, which conflicts with relationship(s): 'Trip.feed' (copies _feed.feed_id to trips.feed_id), 'Trip.route' (copies routes.feed_id to trips.feed_id). Consider applying viewonly=True to read-only relationships, or provide a primaryjoin condition marking writable columns with the foreign() annotation.\n",
      "  for (pr, fr_) in other_props)\n",
      "/Users/michaelcollins/anaconda3/lib/python3.6/site-packages/sqlalchemy/orm/relationships.py:2725: SAWarning: relationship 'Trip.shape_points' will copy column shapes.feed_id to column trips.feed_id, which conflicts with relationship(s): 'Trip.feed' (copies _feed.feed_id to trips.feed_id), 'Trip.route' (copies routes.feed_id to trips.feed_id), 'Trip.service' (copies calendar.feed_id to trips.feed_id). Consider applying viewonly=True to read-only relationships, or provide a primaryjoin condition marking writable columns with the foreign() annotation.\n",
      "  for (pr, fr_) in other_props)\n"
     ]
    },
    {
     "name": "stdout",
     "output_type": "stream",
     "text": [
      ".8868 records read for <class 'pygtfs.gtfs_entities.Stop'>.\n",
      "262 records read for <class 'pygtfs.gtfs_entities.Route'>.\n",
      ".......................115396 records read for <class 'pygtfs.gtfs_entities.Trip'>.\n",
      ".................................................................................................................................................................................................................................................................................................................................................................................................................................................................................................................................................................................................................................................................................................................................................3606885 records read for <class 'pygtfs.gtfs_entities.StopTime'>.\n",
      "52 records read for <class 'pygtfs.gtfs_entities.Service'>.\n",
      "851 records read for <class 'pygtfs.gtfs_entities.ServiceException'>.\n",
      "...................................................................336393 records read for <class 'pygtfs.gtfs_entities.ShapePoint'>.\n",
      "Complete.\n"
     ]
    },
    {
     "data": {
      "text/plain": [
       "<pygtfs.schedule.Schedule at 0x104f313c8>"
      ]
     },
     "execution_count": 2,
     "metadata": {},
     "output_type": "execute_result"
    }
   ],
   "source": [
    "sched = pygtfs.Schedule(\":memory:\")\n",
    "pygtfs.append_feed(sched, \"data/google_transit.zip\")"
   ]
  },
  {
   "cell_type": "code",
   "execution_count": 3,
   "metadata": {},
   "outputs": [
    {
     "data": {
      "text/plain": [
       "[<Agency TL: TransLink>]"
      ]
     },
     "execution_count": 3,
     "metadata": {},
     "output_type": "execute_result"
    }
   ],
   "source": [
    "sched.agencies"
   ]
  },
  {
   "cell_type": "code",
   "execution_count": 4,
   "metadata": {},
   "outputs": [
    {
     "data": {
      "text/plain": [
       "{'019': '51197', '008': '50844'}"
      ]
     },
     "execution_count": 4,
     "metadata": {},
     "output_type": "execute_result"
    }
   ],
   "source": [
    "my_favourites = {\n",
    "    '019': '51197',\n",
    "    '008': '50844'\n",
    "}\n",
    "my_favourites"
   ]
  },
  {
   "cell_type": "code",
   "execution_count": 5,
   "metadata": {},
   "outputs": [
    {
     "data": {
      "text/plain": [
       "dict_keys(['C44', '362', '189', '187', 'EXPO SKYTRAIN', 'MILLENNIUM SKYTRAIN', '023', '560', '119', '402', '401', '395', '394', '407', '405', '404', '403', '745', '410', 'N8', '322', '746', 'N9', '116', '123', '104', '106', '110', '112', '099', '100', '101', '743', 'C89', 'C84', 'C20', '185', '186', '179', '180', '174', '175', '183', '184', '181', '182', 'C18', '391', '393', '352', '354', '345', '351', '335', 'CANADA LINE SKYTRAIN', '329', 'C94', 'C4', 'C3', '151', '145', '144', '143', '136', '095', '134', 'C41', '129', '748', '840', '564', '791', '370', 'C61', '033', '337', '042', '130', '314', '312', '319', '316', '321', '320', '324', '323', '215', '169', 'C70', '128', '155', '152', '153', '159', '160', '156', '157', '864', '342', 'C48', '561', '211', 'C86', 'C87', 'C88', 'C92', 'C93', 'C96', 'C63', '214', '212', '229', '228', '014', 'C9', '209', 'C62', '232', '230', '865', '281', '262', '084', '609', '131', '125', '364', '388', '503', 'N17', 'N15', 'N10', 'N24', 'N22', 'N20', 'N19', '210', '231', '804', '341', '749', '028', '032', '895', '894', '893', '892', '891', '890', '881', '880', '251', '252', '027', '236', '239', '240', '096', '242', '246', '247', '250', 'C60', '029', 'C5', '744', '188', '227', 'C46', '562', 'C45', '003', '002', '007', '006', '005', '004', '009', '008', '360', '361', '241', 'C75', '256', '828', '848', '807', '863', '855', '861', '311', '301', '257', '255', '254', '253', '259', '258', '373', '371', '280', '171', '170', '531', 'C6', 'WEST COAST EXPRESS', '173', '172', 'C7', 'SEABUS', '606', '604', '620', '608', '601', '026', '602', '022', '025', '019', '595', '016', '017', '010', '015', '133', '741', '733', '372', '375', '132', '326', '325', '701', '640', 'C49', '310', '044', 'C76', '191', 'N35', '070', '068', '430', '480', '501', '502', '509', '041', '340', '555', '043', '050', '049', 'C98', '363', '020', '563', 'C64', '603', '150', 'C43'])"
      ]
     },
     "execution_count": 5,
     "metadata": {},
     "output_type": "execute_result"
    }
   ],
   "source": [
    "routes_by_name = {r.route_short_name: r for r in sched.routes}\n",
    "routes_by_name.keys()\n"
   ]
  },
  {
   "cell_type": "code",
   "execution_count": 6,
   "metadata": {},
   "outputs": [
    {
     "name": "stdout",
     "output_type": "stream",
     "text": [
      "<Route 6624: 019>\n"
     ]
    }
   ],
   "source": [
    "nineteen = routes_by_name['019']\n",
    "print(nineteen)"
   ]
  },
  {
   "cell_type": "code",
   "execution_count": 7,
   "metadata": {},
   "outputs": [
    {
     "data": {
      "text/plain": [
       "0"
      ]
     },
     "execution_count": 7,
     "metadata": {},
     "output_type": "execute_result"
    }
   ],
   "source": [
    "nineteen.trips[0].direction_id"
   ]
  },
  {
   "cell_type": "code",
   "execution_count": null,
   "metadata": {},
   "outputs": [],
   "source": [
    "nineteen.trips[0].trip_headsign"
   ]
  },
  {
   "cell_type": "code",
   "execution_count": null,
   "metadata": {},
   "outputs": [],
   "source": [
    "nineteen.trips[0].shape_id"
   ]
  },
  {
   "cell_type": "code",
   "execution_count": 8,
   "metadata": {},
   "outputs": [
    {
     "data": {
      "text/plain": [
       "<Stop 1080: EB KINGSWAY FS WALES ST>"
      ]
     },
     "execution_count": 8,
     "metadata": {},
     "output_type": "execute_result"
    }
   ],
   "source": [
    "nineteen.trips[0].stop_times[0].stop"
   ]
  },
  {
   "cell_type": "code",
   "execution_count": 9,
   "metadata": {},
   "outputs": [
    {
     "data": {
      "text/plain": [
       "<Stop 981: EB W GEORGIA ST FS DENMAN ST>"
      ]
     },
     "execution_count": 9,
     "metadata": {},
     "output_type": "execute_result"
    }
   ],
   "source": [
    "nineteen.trips[0].stop_times[-1].stop"
   ]
  },
  {
   "cell_type": "code",
   "execution_count": 10,
   "metadata": {},
   "outputs": [
    {
     "name": "stdout",
     "output_type": "stream",
     "text": [
      "51071: <Stop 1080: EB KINGSWAY FS WALES ST>\n",
      "51372: <Stop 11220: EB W PENDER ST FS JERVIS ST>\n",
      "51135: <Stop 1144: EB KINGSWAY NS E 12 AVE>\n",
      "51136: <Stop 1145: EB KINGSWAY FS E 13 AVE>\n",
      "51137: <Stop 1146: EB KINGSWAY NS CAROLINA ST>\n",
      "51138: <Stop 1147: EB KINGSWAY FS FRASER ST>\n",
      "51140: <Stop 1149: EB KINGSWAY FS GLEN DR>\n",
      "51141: <Stop 1150: EB KINGSWAY FS CLARK DR>\n",
      "51142: <Stop 1151: EB KINGSWAY FS KNIGHT ST>\n",
      "51143: <Stop 1152: EB KINGSWAY FS DUMFRIES ST>\n",
      "51144: <Stop 1153: EB KINGSWAY FS PERRY ST>\n",
      "51145: <Stop 1154: EB KINGSWAY FS MILLER ST>\n",
      "51147: <Stop 1156: EB KINGSWAY FS EARLES ST>\n",
      "51148: <Stop 1157: EB KINGSWAY FS KILLARNEY ST>\n",
      "51149: <Stop 1158: EB KINGSWAY FS RUPERT ST>\n",
      "51150: <Stop 1159: EB KINGSWAY FS MCKINNON ST>\n",
      "51151: <Stop 1160: EB KINGSWAY FS JOYCE ST>\n",
      "51152: <Stop 1161: EB KINGSWAY FS WESSEX ST>\n",
      "51153: <Stop 1162: EB KINGSWAY NS TYNE ST>\n",
      "51154: <Stop 1163: EB KINGSWAY FS MELBOURNE ST>\n",
      "51155: <Stop 1164: EB KINGSWAY FS LINCOLN ST>\n",
      "51156: <Stop 1165: EB KINGSWAY FS BOUNDARY RD>\n",
      "51157: <Stop 1166: EB KINGSWAY FS SMITH AVE>\n",
      "51158: <Stop 1167: EB KINGSWAY FS INMAN AVE>\n",
      "51159: <Stop 1168: EB KINGSWAY FS PATTERSON AVE>\n",
      "51160: <Stop 1169: EB KINGSWAY FS OLIVE AVE>\n",
      "51161: <Stop 1170: EB KINGSWAY FS WILSON AVE>\n",
      "51162: <Stop 1171: SB WILLINGDON AVE NS KEMP ST>\n",
      "61990: <Stop 12110: EB KINGSWAY NS GLADSTONE ST>\n",
      "50235: <Stop 12523: SB MAIN ST FS E 3 AVE>\n",
      "51370: <Stop 1382: EB W PENDER ST FS NICOLA ST>\n",
      "51371: <Stop 1383: EB W PENDER ST FS BROUGHTON ST>\n",
      "51373: <Stop 1385: EB W PENDER ST FS BUTE ST>\n",
      "50021: <Stop 21: EB E PENDER ST FS CARRALL ST>\n",
      "50230: <Stop 232: SB MAIN ST FS KEEFER ST>\n",
      "50232: <Stop 234: SB MAIN ST FS NATIONAL AVE>\n",
      "50233: <Stop 235: SB MAIN ST NS TERMINAL AVE>\n",
      "50234: <Stop 236: SB MAIN ST FS SWITCHMEN ST>\n",
      "52692: <Stop 2717: METROTOWN STN BAY 1>\n",
      "50406: <Stop 410: EB W PENDER ST FS THURLOW ST>\n",
      "50520: <Stop 524: EB E PENDER ST NS MAIN ST>\n",
      "50659: <Stop 666: EB KINGSWAY FS VICTORIA DR>\n",
      "50660: <Stop 667: EB KINGSWAY FS NANAIMO ST>\n",
      "50661: <Stop 668: EB KINGSWAY FS SLOCAN ST>\n",
      "50076: <Stop 76: EB W PENDER ST FS BURRARD ST>\n",
      "50077: <Stop 77: EB W PENDER ST NS GRANVILLE ST>\n",
      "50771: <Stop 778: EB KINGSWAY FS MAIN ST>\n",
      "50078: <Stop 78: EB W PENDER ST FS SEYMOUR ST>\n",
      "50079: <Stop 79: EB W PENDER ST FS RICHARDS ST>\n",
      "50080: <Stop 80: EB W PENDER ST FS HAMILTON ST>\n",
      "58008: <Stop 8983: SB LOST LAGOON RD NS CAUSEWAY>\n",
      "58529: <Stop 9063: EB W PENDER ST FS ABBOTT ST>\n",
      "58510: <Stop 9067: SB MAIN ST FS E 5 AVE->\n",
      "51139: <Stop 9147: EB KINGSWAY FS SAINT CATHERINES ST>\n",
      "58728: <Stop 9486: STANLEY PARK LOOP BAY 2>\n",
      "58722: <Stop 9487: EB W GEORGIA ST NS GILFORD ST>\n",
      "50972: <Stop 981: EB W GEORGIA ST FS DENMAN ST>\n"
     ]
    }
   ],
   "source": [
    "print(\"\\n\".join([\"%s: %s\"%(st.stop.stop_code, str(st.stop)) for st in nineteen.trips[0].stop_times]))"
   ]
  },
  {
   "cell_type": "code",
   "execution_count": 11,
   "metadata": {},
   "outputs": [
    {
     "data": {
      "text/plain": [
       "['__class__',\n",
       " '__delattr__',\n",
       " '__dict__',\n",
       " '__dir__',\n",
       " '__doc__',\n",
       " '__eq__',\n",
       " '__format__',\n",
       " '__ge__',\n",
       " '__getattribute__',\n",
       " '__gt__',\n",
       " '__hash__',\n",
       " '__init__',\n",
       " '__init_subclass__',\n",
       " '__le__',\n",
       " '__lt__',\n",
       " '__mapper__',\n",
       " '__module__',\n",
       " '__ne__',\n",
       " '__new__',\n",
       " '__reduce__',\n",
       " '__reduce_ex__',\n",
       " '__repr__',\n",
       " '__setattr__',\n",
       " '__sizeof__',\n",
       " '__str__',\n",
       " '__subclasshook__',\n",
       " '__table__',\n",
       " '__tablename__',\n",
       " '__weakref__',\n",
       " '_decl_class_registry',\n",
       " '_plural_name_',\n",
       " '_sa_class_manager',\n",
       " '_sa_instance_state',\n",
       " '_validate_location',\n",
       " '_validate_lon_lat',\n",
       " '_validate_wheelchair',\n",
       " 'feed',\n",
       " 'feed_id',\n",
       " 'id',\n",
       " 'location_type',\n",
       " 'metadata',\n",
       " 'parent_station',\n",
       " 'platform_code',\n",
       " 'stop_code',\n",
       " 'stop_desc',\n",
       " 'stop_id',\n",
       " 'stop_lat',\n",
       " 'stop_lon',\n",
       " 'stop_name',\n",
       " 'stop_times',\n",
       " 'stop_timezone',\n",
       " 'stop_url',\n",
       " 'transfers_from',\n",
       " 'transfers_to',\n",
       " 'translations',\n",
       " 'wheelchair_boarding',\n",
       " 'zone_id']"
      ]
     },
     "execution_count": 11,
     "metadata": {},
     "output_type": "execute_result"
    }
   ],
   "source": [
    "dir(nineteen.trips[0].stop_times[0].stop)"
   ]
  },
  {
   "cell_type": "code",
   "execution_count": 12,
   "metadata": {},
   "outputs": [
    {
     "data": {
      "text/plain": [
       "'51071'"
      ]
     },
     "execution_count": 12,
     "metadata": {},
     "output_type": "execute_result"
    }
   ],
   "source": [
    "nineteen.trips[0].stop_times[0].stop.stop_code"
   ]
  },
  {
   "cell_type": "code",
   "execution_count": null,
   "metadata": {},
   "outputs": [],
   "source": []
  }
 ],
 "metadata": {
  "kernelspec": {
   "display_name": "Python 3",
   "language": "python",
   "name": "python3"
  },
  "language_info": {
   "codemirror_mode": {
    "name": "ipython",
    "version": 3
   },
   "file_extension": ".py",
   "mimetype": "text/x-python",
   "name": "python",
   "nbconvert_exporter": "python",
   "pygments_lexer": "ipython3",
   "version": "3.6.5"
  }
 },
 "nbformat": 4,
 "nbformat_minor": 2
}
